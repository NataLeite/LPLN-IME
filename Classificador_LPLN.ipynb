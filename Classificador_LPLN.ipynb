{
  "nbformat": 4,
  "nbformat_minor": 0,
  "metadata": {
    "colab": {
      "provenance": []
    },
    "kernelspec": {
      "name": "python3",
      "display_name": "Python 3"
    },
    "language_info": {
      "name": "python"
    }
  },
  "cells": [
    {
      "cell_type": "markdown",
      "source": [
        "# Implementação do algoritmo Naive Bayes na língua Kãnnhũ\n",
        "\n",
        "Aluna: Renata Leite Leandro\n",
        "\n",
        "Link para acessar o conjunto de dados (localizado no final do arquivo): https://docs.google.com/document/d/1moCBlv52pPVTJ3cTrdmWae1bYxbGd1Br5ynq5AF3HBI/edit?usp=sharing"
      ],
      "metadata": {
        "id": "ZG1ez24joo52"
      }
    },
    {
      "cell_type": "markdown",
      "source": [
        "## Introdução:"
      ],
      "metadata": {
        "id": "sVeRM9tF7N-f"
      }
    },
    {
      "cell_type": "markdown",
      "source": [
        "O objetivo deste trabalho será a implementação do algoritmo Naive Bayes para a classificação de um pequeno conjunto de dados elaborado na língua Kãnnhũ (conlang). A ideia é que, nesta língua, o substantivo \"nhemnna\" é ambíguo, podendo significar tanto \"dança\" quanto \"movimento do balançar das folhas das árvores\". Assim, este trabalho consistirá numa tentativa de desambiguação desse termo através da diferenciação de seu contexto pelo algoritmo Naive Bayes, que verificará quais palavras mais frequentemente acompanham cada significado.\n",
        "\n",
        "Vamos iniciar a leitura das bibliotecas necessárias e dos datasets:"
      ],
      "metadata": {
        "id": "nzbkBoLxMkxy"
      }
    },
    {
      "cell_type": "code",
      "source": [
        "# Importando as bibliotecas necessárias:\n",
        "import pandas as pd\n",
        "import matplotlib.pyplot as plt\n",
        "import seaborn as sns\n",
        "import numpy as np\n",
        "import nltk"
      ],
      "metadata": {
        "id": "nY5VgZZ6YBHu"
      },
      "execution_count": null,
      "outputs": []
    },
    {
      "cell_type": "code",
      "source": [
        "from google.colab import drive\n",
        "drive.mount('/content/drive')"
      ],
      "metadata": {
        "colab": {
          "base_uri": "https://localhost:8080/"
        },
        "id": "H-6LFLjS9WK9",
        "outputId": "245a3c50-ac5c-4725-983d-e12bc03a7bea"
      },
      "execution_count": null,
      "outputs": [
        {
          "output_type": "stream",
          "name": "stdout",
          "text": [
            "Drive already mounted at /content/drive; to attempt to forcibly remount, call drive.mount(\"/content/drive\", force_remount=True).\n"
          ]
        }
      ]
    },
    {
      "cell_type": "code",
      "source": [
        "# Lendo o dataset:\n",
        "train = pd.read_csv('/content/drive/MyDrive/LPLN IME 2023/train.csv')\n",
        "test = pd.read_csv('/content/drive/MyDrive/LPLN IME 2023/test.csv')\n",
        "test_labels = pd.read_csv('/content/drive/MyDrive/LPLN IME 2023/test labels.csv')"
      ],
      "metadata": {
        "id": "8aKoMmAE2wqQ"
      },
      "execution_count": null,
      "outputs": []
    },
    {
      "cell_type": "markdown",
      "source": [
        "Agora, vamos apresentar os dados de treino. Lembrando que, por ser apenas um trabalho experimental, nossos dados são bastante reduzidos, com apenas 4 frases para compor o conjunto de treino e 8 para o conjunto de teste. Veja:"
      ],
      "metadata": {
        "id": "6iKAxEjdPxse"
      }
    },
    {
      "cell_type": "code",
      "source": [
        "# Apresentando o dataset de treino:\n",
        "train.head()"
      ],
      "metadata": {
        "id": "Upx7i4VlM_Dz",
        "colab": {
          "base_uri": "https://localhost:8080/",
          "height": 175
        },
        "outputId": "9554d79d-8b7a-472a-b17e-6c19ba0ca33a"
      },
      "execution_count": null,
      "outputs": [
        {
          "output_type": "execute_result",
          "data": {
            "text/plain": [
              "                                             frase                label\n",
              "0  the dgke dzĩ thujbi ij gĩmzo nhemnna tsej pu qo                dança\n",
              "1             the dgke thuse gĩmzo ij nhemnna xemi                dança\n",
              "2           qgo dgku jĩmem nhĩrran nhemnna kĩbũ qo  balançar das folhas\n",
              "3    the dgke thuse tsethi ij nhemnna nnarimisenko  balançar das folhas"
            ],
            "text/html": [
              "\n",
              "  <div id=\"df-ce3c050f-aabd-4075-b79f-6adcb5fa661e\" class=\"colab-df-container\">\n",
              "    <div>\n",
              "<style scoped>\n",
              "    .dataframe tbody tr th:only-of-type {\n",
              "        vertical-align: middle;\n",
              "    }\n",
              "\n",
              "    .dataframe tbody tr th {\n",
              "        vertical-align: top;\n",
              "    }\n",
              "\n",
              "    .dataframe thead th {\n",
              "        text-align: right;\n",
              "    }\n",
              "</style>\n",
              "<table border=\"1\" class=\"dataframe\">\n",
              "  <thead>\n",
              "    <tr style=\"text-align: right;\">\n",
              "      <th></th>\n",
              "      <th>frase</th>\n",
              "      <th>label</th>\n",
              "    </tr>\n",
              "  </thead>\n",
              "  <tbody>\n",
              "    <tr>\n",
              "      <th>0</th>\n",
              "      <td>the dgke dzĩ thujbi ij gĩmzo nhemnna tsej pu qo</td>\n",
              "      <td>dança</td>\n",
              "    </tr>\n",
              "    <tr>\n",
              "      <th>1</th>\n",
              "      <td>the dgke thuse gĩmzo ij nhemnna xemi</td>\n",
              "      <td>dança</td>\n",
              "    </tr>\n",
              "    <tr>\n",
              "      <th>2</th>\n",
              "      <td>qgo dgku jĩmem nhĩrran nhemnna kĩbũ qo</td>\n",
              "      <td>balançar das folhas</td>\n",
              "    </tr>\n",
              "    <tr>\n",
              "      <th>3</th>\n",
              "      <td>the dgke thuse tsethi ij nhemnna nnarimisenko</td>\n",
              "      <td>balançar das folhas</td>\n",
              "    </tr>\n",
              "  </tbody>\n",
              "</table>\n",
              "</div>\n",
              "    <div class=\"colab-df-buttons\">\n",
              "\n",
              "  <div class=\"colab-df-container\">\n",
              "    <button class=\"colab-df-convert\" onclick=\"convertToInteractive('df-ce3c050f-aabd-4075-b79f-6adcb5fa661e')\"\n",
              "            title=\"Convert this dataframe to an interactive table.\"\n",
              "            style=\"display:none;\">\n",
              "\n",
              "  <svg xmlns=\"http://www.w3.org/2000/svg\" height=\"24px\" viewBox=\"0 -960 960 960\">\n",
              "    <path d=\"M120-120v-720h720v720H120Zm60-500h600v-160H180v160Zm220 220h160v-160H400v160Zm0 220h160v-160H400v160ZM180-400h160v-160H180v160Zm440 0h160v-160H620v160ZM180-180h160v-160H180v160Zm440 0h160v-160H620v160Z\"/>\n",
              "  </svg>\n",
              "    </button>\n",
              "\n",
              "  <style>\n",
              "    .colab-df-container {\n",
              "      display:flex;\n",
              "      gap: 12px;\n",
              "    }\n",
              "\n",
              "    .colab-df-convert {\n",
              "      background-color: #E8F0FE;\n",
              "      border: none;\n",
              "      border-radius: 50%;\n",
              "      cursor: pointer;\n",
              "      display: none;\n",
              "      fill: #1967D2;\n",
              "      height: 32px;\n",
              "      padding: 0 0 0 0;\n",
              "      width: 32px;\n",
              "    }\n",
              "\n",
              "    .colab-df-convert:hover {\n",
              "      background-color: #E2EBFA;\n",
              "      box-shadow: 0px 1px 2px rgba(60, 64, 67, 0.3), 0px 1px 3px 1px rgba(60, 64, 67, 0.15);\n",
              "      fill: #174EA6;\n",
              "    }\n",
              "\n",
              "    .colab-df-buttons div {\n",
              "      margin-bottom: 4px;\n",
              "    }\n",
              "\n",
              "    [theme=dark] .colab-df-convert {\n",
              "      background-color: #3B4455;\n",
              "      fill: #D2E3FC;\n",
              "    }\n",
              "\n",
              "    [theme=dark] .colab-df-convert:hover {\n",
              "      background-color: #434B5C;\n",
              "      box-shadow: 0px 1px 3px 1px rgba(0, 0, 0, 0.15);\n",
              "      filter: drop-shadow(0px 1px 2px rgba(0, 0, 0, 0.3));\n",
              "      fill: #FFFFFF;\n",
              "    }\n",
              "  </style>\n",
              "\n",
              "    <script>\n",
              "      const buttonEl =\n",
              "        document.querySelector('#df-ce3c050f-aabd-4075-b79f-6adcb5fa661e button.colab-df-convert');\n",
              "      buttonEl.style.display =\n",
              "        google.colab.kernel.accessAllowed ? 'block' : 'none';\n",
              "\n",
              "      async function convertToInteractive(key) {\n",
              "        const element = document.querySelector('#df-ce3c050f-aabd-4075-b79f-6adcb5fa661e');\n",
              "        const dataTable =\n",
              "          await google.colab.kernel.invokeFunction('convertToInteractive',\n",
              "                                                    [key], {});\n",
              "        if (!dataTable) return;\n",
              "\n",
              "        const docLinkHtml = 'Like what you see? Visit the ' +\n",
              "          '<a target=\"_blank\" href=https://colab.research.google.com/notebooks/data_table.ipynb>data table notebook</a>'\n",
              "          + ' to learn more about interactive tables.';\n",
              "        element.innerHTML = '';\n",
              "        dataTable['output_type'] = 'display_data';\n",
              "        await google.colab.output.renderOutput(dataTable, element);\n",
              "        const docLink = document.createElement('div');\n",
              "        docLink.innerHTML = docLinkHtml;\n",
              "        element.appendChild(docLink);\n",
              "      }\n",
              "    </script>\n",
              "  </div>\n",
              "\n",
              "\n",
              "<div id=\"df-7924a81c-4613-4a35-980d-abd02fb08c35\">\n",
              "  <button class=\"colab-df-quickchart\" onclick=\"quickchart('df-7924a81c-4613-4a35-980d-abd02fb08c35')\"\n",
              "            title=\"Suggest charts.\"\n",
              "            style=\"display:none;\">\n",
              "\n",
              "<svg xmlns=\"http://www.w3.org/2000/svg\" height=\"24px\"viewBox=\"0 0 24 24\"\n",
              "     width=\"24px\">\n",
              "    <g>\n",
              "        <path d=\"M19 3H5c-1.1 0-2 .9-2 2v14c0 1.1.9 2 2 2h14c1.1 0 2-.9 2-2V5c0-1.1-.9-2-2-2zM9 17H7v-7h2v7zm4 0h-2V7h2v10zm4 0h-2v-4h2v4z\"/>\n",
              "    </g>\n",
              "</svg>\n",
              "  </button>\n",
              "\n",
              "<style>\n",
              "  .colab-df-quickchart {\n",
              "      --bg-color: #E8F0FE;\n",
              "      --fill-color: #1967D2;\n",
              "      --hover-bg-color: #E2EBFA;\n",
              "      --hover-fill-color: #174EA6;\n",
              "      --disabled-fill-color: #AAA;\n",
              "      --disabled-bg-color: #DDD;\n",
              "  }\n",
              "\n",
              "  [theme=dark] .colab-df-quickchart {\n",
              "      --bg-color: #3B4455;\n",
              "      --fill-color: #D2E3FC;\n",
              "      --hover-bg-color: #434B5C;\n",
              "      --hover-fill-color: #FFFFFF;\n",
              "      --disabled-bg-color: #3B4455;\n",
              "      --disabled-fill-color: #666;\n",
              "  }\n",
              "\n",
              "  .colab-df-quickchart {\n",
              "    background-color: var(--bg-color);\n",
              "    border: none;\n",
              "    border-radius: 50%;\n",
              "    cursor: pointer;\n",
              "    display: none;\n",
              "    fill: var(--fill-color);\n",
              "    height: 32px;\n",
              "    padding: 0;\n",
              "    width: 32px;\n",
              "  }\n",
              "\n",
              "  .colab-df-quickchart:hover {\n",
              "    background-color: var(--hover-bg-color);\n",
              "    box-shadow: 0 1px 2px rgba(60, 64, 67, 0.3), 0 1px 3px 1px rgba(60, 64, 67, 0.15);\n",
              "    fill: var(--button-hover-fill-color);\n",
              "  }\n",
              "\n",
              "  .colab-df-quickchart-complete:disabled,\n",
              "  .colab-df-quickchart-complete:disabled:hover {\n",
              "    background-color: var(--disabled-bg-color);\n",
              "    fill: var(--disabled-fill-color);\n",
              "    box-shadow: none;\n",
              "  }\n",
              "\n",
              "  .colab-df-spinner {\n",
              "    border: 2px solid var(--fill-color);\n",
              "    border-color: transparent;\n",
              "    border-bottom-color: var(--fill-color);\n",
              "    animation:\n",
              "      spin 1s steps(1) infinite;\n",
              "  }\n",
              "\n",
              "  @keyframes spin {\n",
              "    0% {\n",
              "      border-color: transparent;\n",
              "      border-bottom-color: var(--fill-color);\n",
              "      border-left-color: var(--fill-color);\n",
              "    }\n",
              "    20% {\n",
              "      border-color: transparent;\n",
              "      border-left-color: var(--fill-color);\n",
              "      border-top-color: var(--fill-color);\n",
              "    }\n",
              "    30% {\n",
              "      border-color: transparent;\n",
              "      border-left-color: var(--fill-color);\n",
              "      border-top-color: var(--fill-color);\n",
              "      border-right-color: var(--fill-color);\n",
              "    }\n",
              "    40% {\n",
              "      border-color: transparent;\n",
              "      border-right-color: var(--fill-color);\n",
              "      border-top-color: var(--fill-color);\n",
              "    }\n",
              "    60% {\n",
              "      border-color: transparent;\n",
              "      border-right-color: var(--fill-color);\n",
              "    }\n",
              "    80% {\n",
              "      border-color: transparent;\n",
              "      border-right-color: var(--fill-color);\n",
              "      border-bottom-color: var(--fill-color);\n",
              "    }\n",
              "    90% {\n",
              "      border-color: transparent;\n",
              "      border-bottom-color: var(--fill-color);\n",
              "    }\n",
              "  }\n",
              "</style>\n",
              "\n",
              "  <script>\n",
              "    async function quickchart(key) {\n",
              "      const quickchartButtonEl =\n",
              "        document.querySelector('#' + key + ' button');\n",
              "      quickchartButtonEl.disabled = true;  // To prevent multiple clicks.\n",
              "      quickchartButtonEl.classList.add('colab-df-spinner');\n",
              "      try {\n",
              "        const charts = await google.colab.kernel.invokeFunction(\n",
              "            'suggestCharts', [key], {});\n",
              "      } catch (error) {\n",
              "        console.error('Error during call to suggestCharts:', error);\n",
              "      }\n",
              "      quickchartButtonEl.classList.remove('colab-df-spinner');\n",
              "      quickchartButtonEl.classList.add('colab-df-quickchart-complete');\n",
              "    }\n",
              "    (() => {\n",
              "      let quickchartButtonEl =\n",
              "        document.querySelector('#df-7924a81c-4613-4a35-980d-abd02fb08c35 button');\n",
              "      quickchartButtonEl.style.display =\n",
              "        google.colab.kernel.accessAllowed ? 'block' : 'none';\n",
              "    })();\n",
              "  </script>\n",
              "</div>\n",
              "    </div>\n",
              "  </div>\n"
            ]
          },
          "metadata": {},
          "execution_count": 20
        }
      ]
    },
    {
      "cell_type": "markdown",
      "source": [
        "## Pré-processamento dos dados"
      ],
      "metadata": {
        "id": "rNsLLELy089p"
      }
    },
    {
      "cell_type": "markdown",
      "source": [
        "Primeiramente, precisamos limpar os nossos dados para que, em seguida, eles possam ser transformados aplicados ao modelo. Como não há nenhuma letra maiúscula ou caractere não alfabético em nossos dados, precisamos apenas nos livrar das stopwords."
      ],
      "metadata": {
        "id": "zwqE9wFZl3pv"
      }
    },
    {
      "cell_type": "code",
      "source": [
        "# Importando as dependências necessárias:\n",
        "nltk.download('punkt')\n",
        "from nltk.tokenize import word_tokenize\n",
        "\n",
        "# Estabelencendo uma lista de stopwords para a nossa conlang:\n",
        "stopwords = ['the', 'rã', 'qgo', 'ngke', 'dgke', 'dgku', 'ij', 'be', 'qo', 'tsej', 'nhĩrran', 'dã', 'zã']\n",
        "\n",
        "def clean_text(sentences):\n",
        "  \"\"\" Função que limpa as frases do dataset.\n",
        "  Entrada: uma lista de frases.\n",
        "  Saída: uma lista de frases limpas.     \"\"\"\n",
        "  # Separando as frases em palavras:\n",
        "  tokenized_sent = [word_tokenize(i) for i in sentences]\n",
        "  # Removendo todas as stopwords:\n",
        "  sentencelist = []\n",
        "  for sent in tokenized_sent:\n",
        "    wordlist = [word for word in sent if word not in stopwords]\n",
        "    wordlist = ' '.join(wordlist)\n",
        "    sentencelist += [wordlist]\n",
        "  return sentencelist\n",
        "\n",
        "# Aplicando a função de limpeza nos nossos dados:\n",
        "clean_train = clean_text(train['frase'])\n",
        "clean_test = clean_text(test['frase'])"
      ],
      "metadata": {
        "id": "VfH7GrOIRI6F",
        "colab": {
          "base_uri": "https://localhost:8080/"
        },
        "outputId": "d9078660-21dc-408a-ae80-dc98ee37697b"
      },
      "execution_count": null,
      "outputs": [
        {
          "output_type": "stream",
          "name": "stderr",
          "text": [
            "[nltk_data] Downloading package punkt to /root/nltk_data...\n",
            "[nltk_data]   Package punkt is already up-to-date!\n"
          ]
        }
      ]
    },
    {
      "cell_type": "markdown",
      "source": [
        "Veja o resultado nos dados de treino:"
      ],
      "metadata": {
        "id": "g7tVs9fIcSwR"
      }
    },
    {
      "cell_type": "code",
      "source": [
        "print(clean_train)"
      ],
      "metadata": {
        "id": "aQcQz8dKW1TY",
        "colab": {
          "base_uri": "https://localhost:8080/"
        },
        "outputId": "a1a7df79-b394-4ed5-c282-956cf5eb4e03"
      },
      "execution_count": null,
      "outputs": [
        {
          "output_type": "stream",
          "name": "stdout",
          "text": [
            "['dzĩ thujbi gĩmzo nhemnna pu', 'thuse gĩmzo nhemnna xemi', 'jĩmem nhemnna kĩbũ', 'thuse tsethi nhemnna nnarimisenko']\n"
          ]
        }
      ]
    },
    {
      "cell_type": "markdown",
      "source": [
        "Agora que as frases encontram-se limpas, passaremos para a classificação dos dados com o Naive Bayes."
      ],
      "metadata": {
        "id": "c-MVx9u5q6Vm"
      }
    },
    {
      "cell_type": "markdown",
      "source": [
        "## Implementação do algoritmo Naive Bayes"
      ],
      "metadata": {
        "id": "gXI2kr04e09K"
      }
    },
    {
      "cell_type": "markdown",
      "source": [
        "Antes de usarmos o classificador, convém explicar que, na verdade, \"Naive Bayes\" é um termo genérico que se refere apenas a característica mais geral do classificador (isto é, a ingênua suposição de que as features são todas independentes entre si e igualmente importantes), não especificando, portanto, o tipo de distribuição assumida pelas features, que podem ser tanto contínuas quanto discretas. Por tal motivo, o Naive Bayes pode ser encontrado em três diferentes versões: Naive Bayes Multinomial (para dados discretos), Naive Bayes Gaussiano (para dados contínuos) e Naive Bayes de Bernoulli (para dados booleanos).\n",
        "\n",
        "Neste problema, usaremos o Naive Bayes Multinomial, que, embora mais simples e limitado, serve para dados que não podem ser representados numericamente, sendo, por isso, muito utilizado em problemas de classificação de texto.\n",
        "\n",
        "A ideia seguida por tal algoritmo é bastante simples:\n",
        "\n",
        "- primeiro, visto que nossos dados são textuais, precisaríamos transformá-los em suas versões numéricas;\n",
        "- depois, com os dados de treino, encontraríamos as probabilidades condicionais P(A|B) = P(A∩B) / P(B) -> P(palavra|classe) = P(palavra∩classe) / P(classe);\n",
        "- por último, sabendo quais as probabilidades de cada palavra pertencer às diferentes classe, conseguiríamos encontrar qual a probabilidade de uma frase pertencer a uma determinada classe, considerando apenas as palavras que a compõem.\n",
        "\n",
        "Como usaremos a biblioteca do sklearn para implementarmos nosso algoritmo, não precisaremos, porém, entrar em nenhum desses detalhes. Veja:"
      ],
      "metadata": {
        "id": "3bLgoMhiTzgz"
      }
    },
    {
      "cell_type": "code",
      "source": [
        "# Importando as dependências necessárias:\n",
        "from sklearn.feature_extraction.text import TfidfVectorizer\n",
        "from sklearn.naive_bayes import MultinomialNB\n",
        "from sklearn.pipeline import make_pipeline\n",
        "\n",
        "# Criando o modelo:\n",
        "model = make_pipeline(TfidfVectorizer(), MultinomialNB())\n",
        "\n",
        "# Treinando o modelo com os dados de treino:\n",
        "model.fit(clean_train, train['label'])\n",
        "\n",
        "# Predizendo as categorias dos dados de teste:\n",
        "predicted_categories = model.predict(clean_test)"
      ],
      "metadata": {
        "id": "QVEACf1AlcNG"
      },
      "execution_count": null,
      "outputs": []
    },
    {
      "cell_type": "markdown",
      "source": [
        "Agora, resta-nos ver o desempenho do modelo para aplicar algumas mudanças, caso necessário."
      ],
      "metadata": {
        "id": "D57Jv52qzQga"
      }
    },
    {
      "cell_type": "code",
      "source": [
        "from sklearn.metrics import confusion_matrix, accuracy_score\n",
        "\n",
        "# Plotando uma matriz de confusão:\n",
        "matrix = confusion_matrix(test_labels, predicted_categories)\n",
        "\n",
        "sns.heatmap(matrix, annot=True, cmap='Purples')\n",
        "\n",
        "# Verificando a acurácia:\n",
        "accuracy = accuracy_score(test_labels, predicted_categories)\n",
        "print('A acurácia encontrada é de:', accuracy)"
      ],
      "metadata": {
        "colab": {
          "base_uri": "https://localhost:8080/",
          "height": 453
        },
        "id": "BpgcT6X6o2RX",
        "outputId": "7f265c49-c398-4924-b920-3ea15e16d219"
      },
      "execution_count": null,
      "outputs": [
        {
          "output_type": "stream",
          "name": "stdout",
          "text": [
            "A acurácia encontrada é de: 0.875\n"
          ]
        },
        {
          "output_type": "display_data",
          "data": {
            "text/plain": [
              "<Figure size 640x480 with 2 Axes>"
            ],
            "image/png": "[encoded data removed]"
          },
          "metadata": {}
        }
      ]
    },
    {
      "cell_type": "markdown",
      "source": [
        "Verificando a frase problemática pelos datasets, podemos ver que o erro encontra-se na sentença\n"
      ],
      "metadata": {
        "id": "RIkvOJkBzfIQ"
      }
    },
    {
      "cell_type": "code",
      "source": [
        "print(clean_test[3])"
      ],
      "metadata": {
        "colab": {
          "base_uri": "https://localhost:8080/"
        },
        "id": "tV3kQYhr1Cpt",
        "outputId": "ceb03751-44ce-4f42-ca50-791dc3e5c6ae"
      },
      "execution_count": null,
      "outputs": [
        {
          "output_type": "stream",
          "name": "stdout",
          "text": [
            "jĩmem nhemnna pu\n"
          ]
        }
      ]
    },
    {
      "cell_type": "markdown",
      "source": [
        "que, em sua totalidade, significa \"veja a dança do menino\". Porém, após a remoção das stopwords restaram apenas as palavras \"ver\" + \"pessoa\", sem o determinante definido masculino (tsej). Assim, uma possível resolução para o erro do classificador está na reconsideração das stopwords, já que, embora determinantes sejam normalmente irrelevantes, nesse caso, o indicativo de gênero, mais relacionado a pessoas que objetos, pode ser útil para indicar que a frase trata de uma dança \"humana\". Vamos verificar se tal hipótese se concretiza:"
      ],
      "metadata": {
        "id": "LwDaS4rG2Rk5"
      }
    },
    {
      "cell_type": "code",
      "source": [
        "# Reestabelencendo uma lista de stopwords para a nossa conlang:\n",
        "stopwords = ['the', 'rã', 'qgo', 'ngke', 'dgke', 'dgku', 'ij', 'be', 'qo', 'nhĩrran', 'dã', 'zã']\n",
        "# Reaplicando a função de limpeza nos nossos dados:\n",
        "clean_train = clean_text(train['frase'])\n",
        "clean_test = clean_text(test['frase'])\n",
        "\n",
        "# Treinando o modelo com os novos dados de treino:\n",
        "model.fit(clean_train, train['label'])\n",
        "# Predizendo as categorias dos dados de teste:\n",
        "new_predicted_categories = model.predict(clean_test)\n",
        "\n",
        "# Plotando uma matriz de confusão:\n",
        "matrix = confusion_matrix(test_labels, new_predicted_categories)\n",
        "sns.heatmap(matrix, annot=True, cmap='Purples')\n",
        "# Verificando a acurácia:\n",
        "accuracy = accuracy_score(test_labels, new_predicted_categories)\n",
        "print('A acurácia encontrada é de:', accuracy)"
      ],
      "metadata": {
        "colab": {
          "base_uri": "https://localhost:8080/",
          "height": 453
        },
        "id": "q7Vx3iyQ3yDY",
        "outputId": "42a0dc10-2118-490e-f23f-0bcbf9fe2269"
      },
      "execution_count": null,
      "outputs": [
        {
          "output_type": "stream",
          "name": "stdout",
          "text": [
            "A acurácia encontrada é de: 1.0\n"
          ]
        },
        {
          "output_type": "display_data",
          "data": {
            "text/plain": [
              "<Figure size 640x480 with 2 Axes>"
            ],
            "image/png": "[encoded data removed]"
          },
          "metadata": {}
        }
      ]
    },
    {
      "cell_type": "markdown",
      "source": [
        "E, finalmente, temos nossos dados devidamente classificados!"
      ],
      "metadata": {
        "id": "AKeF5i_h6Yrf"
      }
    }
  ]
}